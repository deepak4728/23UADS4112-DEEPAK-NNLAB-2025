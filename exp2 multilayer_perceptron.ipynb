{
  "cells": [
    {
      "cell_type": "markdown",
      "source": [
        "**2.\tWAP to implement a multi-layer perceptron (MLP) network with one hidden layer using numpy in Python. Demonstrate that it can learn the XOR Boolean function.**"
      ],
      "metadata": {
        "id": "P9TdAVdDocQs"
      },
      "id": "P9TdAVdDocQs"
    },
    {
      "cell_type": "code",
      "execution_count": 1,
      "id": "17adaff8-23c0-4f38-92ac-965aa302f9aa",
      "metadata": {
        "id": "17adaff8-23c0-4f38-92ac-965aa302f9aa",
        "outputId": "ceb47243-7944-415d-b851-7dd863f4c283",
        "colab": {
          "base_uri": "https://localhost:8080/"
        }
      },
      "outputs": [
        {
          "output_type": "stream",
          "name": "stdout",
          "text": [
            "Predictions:\n",
            "[[0]\n",
            " [1]\n",
            " [1]\n",
            " [0]]\n"
          ]
        }
      ],
      "source": [
        "import numpy as np\n",
        "\n",
        "# Activation functions and derivatives\n",
        "def sigmoid(x):\n",
        "    return 1 / (1 + np.exp(-x))\n",
        "\n",
        "def sigmoid_derivative(x):\n",
        "    return x * (1 - x)\n",
        "\n",
        "# MLP class\n",
        "class MLP:\n",
        "    def __init__(self, input_size, hidden_size, output_size, lr=0.1, epochs=10000):\n",
        "        self.input_size = input_size\n",
        "        self.hidden_size = hidden_size\n",
        "        self.output_size = output_size\n",
        "        self.lr = lr\n",
        "        self.epochs = epochs\n",
        "\n",
        "        # Initialize weights and biases\n",
        "        self.W1 = np.random.randn(self.input_size, self.hidden_size)\n",
        "        self.b1 = np.zeros((1, self.hidden_size))\n",
        "        self.W2 = np.random.randn(self.hidden_size, self.output_size)\n",
        "        self.b2 = np.zeros((1, self.output_size))\n",
        "\n",
        "    def forward(self, X):\n",
        "        self.z1 = np.dot(X, self.W1) + self.b1\n",
        "        self.a1 = sigmoid(self.z1)\n",
        "        self.z2 = np.dot(self.a1, self.W2) + self.b2\n",
        "        self.a2 = sigmoid(self.z2)\n",
        "        return self.a2\n",
        "\n",
        "    def backward(self, X, y, output):\n",
        "        error = y - output\n",
        "        d_output = error * sigmoid_derivative(output)\n",
        "\n",
        "        error_hidden = d_output.dot(self.W2.T)\n",
        "        d_hidden = error_hidden * sigmoid_derivative(self.a1)\n",
        "\n",
        "        # Update weights and biases\n",
        "        self.W2 += self.a1.T.dot(d_output) * self.lr\n",
        "        self.b2 += np.sum(d_output, axis=0, keepdims=True) * self.lr\n",
        "        self.W1 += X.T.dot(d_hidden) * self.lr\n",
        "        self.b1 += np.sum(d_hidden, axis=0, keepdims=True) * self.lr\n",
        "\n",
        "    def train(self, X, y):\n",
        "        for _ in range(self.epochs):\n",
        "            output = self.forward(X)\n",
        "            self.backward(X, y, output)\n",
        "\n",
        "    def predict(self, X):\n",
        "        return (self.forward(X) > 0.5).astype(int)\n",
        "\n",
        "# XOR dataset\n",
        "X_xor = np.array([[0, 0], [0, 1], [1, 0], [1, 1]])\n",
        "y_xor = np.array([[0], [1], [1], [0]])\n",
        "\n",
        "# Train MLP\n",
        "mlp = MLP(input_size=2, hidden_size=2, output_size=1, lr=0.1, epochs=10000)\n",
        "mlp.train(X_xor, y_xor)\n",
        "\n",
        "# Evaluate\n",
        "predictions = mlp.predict(X_xor)\n",
        "print(\"Predictions:\")\n",
        "print(predictions)\n"
      ]
    },
    {
      "cell_type": "code",
      "execution_count": null,
      "id": "c7585c30-50d9-4c1e-af78-c07334909b84",
      "metadata": {
        "id": "c7585c30-50d9-4c1e-af78-c07334909b84"
      },
      "outputs": [],
      "source": []
    }
  ],
  "metadata": {
    "kernelspec": {
      "display_name": "Python 3 (ipykernel)",
      "language": "python",
      "name": "python3"
    },
    "language_info": {
      "codemirror_mode": {
        "name": "ipython",
        "version": 3
      },
      "file_extension": ".py",
      "mimetype": "text/x-python",
      "name": "python",
      "nbconvert_exporter": "python",
      "pygments_lexer": "ipython3",
      "version": "3.8.13"
    },
    "colab": {
      "provenance": []
    }
  },
  "nbformat": 4,
  "nbformat_minor": 5
}