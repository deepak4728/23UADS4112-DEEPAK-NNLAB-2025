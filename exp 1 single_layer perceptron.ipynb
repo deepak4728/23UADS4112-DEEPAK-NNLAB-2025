{
  "nbformat": 4,
  "nbformat_minor": 0,
  "metadata": {
    "colab": {
      "provenance": []
    },
    "kernelspec": {
      "name": "python3",
      "display_name": "Python 3"
    },
    "language_info": {
      "name": "python"
    }
  },
  "cells": [
    {
      "cell_type": "markdown",
      "source": [
        "**1. WAP to implement the Perceptron Learning Algorithm using numpy in Python. Evaluate performance of a single perceptron for NAND and XOR truth tables as input dataset.**"
      ],
      "metadata": {
        "id": "Ri3iJPEFnExl"
      }
    },
    {
      "cell_type": "code",
      "source": [
        "import numpy as np\n",
        "\n",
        "class Perceptron:\n",
        "    def __init__(self, input_size, lr=0.1, epochs=100):\n",
        "        self.weights = np.random.randn(input_size + 1)  # Including bias\n",
        "        self.lr = lr\n",
        "        self.epochs = epochs\n",
        "\n",
        "    def activation(self, x):\n",
        "        return 1 if x >= 0 else 0\n",
        "\n",
        "    def predict(self, x):\n",
        "        x = np.insert(x, 0, 1)  # Adding bias term\n",
        "        return self.activation(np.dot(self.weights, x))\n",
        "\n",
        "    def train(self, X, y):\n",
        "        for _ in range(self.epochs):\n",
        "            for xi, target in zip(X, y):\n",
        "                xi = np.insert(xi, 0, 1)  # Adding bias term\n",
        "                pred = self.activation(np.dot(self.weights, xi))\n",
        "                error = target - pred\n",
        "                self.weights += self.lr * error * xi  # Update weights\n",
        "\n",
        "    def evaluate(self, X, y):\n",
        "        correct = sum(self.predict(x) == target for x, target in zip(X, y))\n",
        "        accuracy = correct / len(y) * 100\n",
        "        print(f'Accuracy: {accuracy:.2f}%')\n",
        "\n",
        "# NAND Truth Table\n",
        "X_nand = np.array([[0, 0], [0, 1], [1, 0], [1, 1]])\n",
        "y_nand = np.array([1, 1, 1, 0])\n",
        "\n",
        "# XOR Truth Table\n",
        "X_xor = np.array([[0, 0], [0, 1], [1, 0], [1, 1]])\n",
        "y_xor = np.array([0, 1, 1, 0])\n",
        "\n",
        "# Train Perceptron on NAND\n",
        "print(\"Training Perceptron for NAND\")\n",
        "nand_perceptron = Perceptron(input_size=2, lr=0.1, epochs=10)\n",
        "nand_perceptron.train(X_nand, y_nand)\n",
        "nand_perceptron.evaluate(X_nand, y_nand)\n",
        "\n",
        "# Train Perceptron on XOR\n",
        "print(\"\\nTraining Perceptron for XOR\")\n",
        "xor_perceptron = Perceptron(input_size=2, lr=0.1, epochs=10)\n",
        "xor_perceptron.train(X_xor, y_xor)\n",
        "xor_perceptron.evaluate(X_xor, y_xor)\n"
      ],
      "metadata": {
        "id": "NYudJVSkgHhg",
        "colab": {
          "base_uri": "https://localhost:8080/"
        },
        "outputId": "c08ab61e-0cb7-49e7-f503-065967545a05"
      },
      "execution_count": null,
      "outputs": [
        {
          "output_type": "stream",
          "name": "stdout",
          "text": [
            "Training Perceptron for NAND\n",
            "Accuracy: 100.00%\n",
            "\n",
            "Training Perceptron for XOR\n",
            "Accuracy: 25.00%\n"
          ]
        }
      ]
    },
    {
      "cell_type": "markdown",
      "source": [
        "Results:\n",
        "- The perceptron successfully learns NAND, as it is linearly separable.\n",
        "- The perceptron fails for XOR, as XOR is not linearly separable and requires multiple layers."
      ],
      "metadata": {
        "id": "SBovJiKlwJGn"
      }
    },
    {
      "cell_type": "markdown",
      "source": [
        "Code Explanation:\n",
        "- `Perceptron class:` Implements the perceptron learning algorithm.\n",
        "- `train method:` Updates weights using the perceptron learning rule.\n",
        "- `predict method:` Uses the step activation function to classify inputs.\n",
        "- `evaluate method:` Computes accuracy."
      ],
      "metadata": {
        "id": "fmEOzoQQwVJr"
      }
    },
    {
      "cell_type": "code",
      "execution_count": null,
      "metadata": {
        "id": "2C8EUmEPf_1W"
      },
      "outputs": [],
      "source": []
    }
  ]
}
