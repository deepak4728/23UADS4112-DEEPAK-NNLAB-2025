{
  "nbformat": 4,
  "nbformat_minor": 0,
  "metadata": {
    "colab": {
      "provenance": [],
      "include_colab_link": true
    },
    "kernelspec": {
      "name": "python3",
      "display_name": "Python 3"
    },
    "language_info": {
      "name": "python"
    }
  },
  "cells": [
    {
      "cell_type": "markdown",
      "metadata": {
        "id": "view-in-github",
        "colab_type": "text"
      },
      "source": [
        "<a href=\"https://colab.research.google.com/github/deepak4728/23UADS4112-DEEPAK-NNLAB-2025/blob/main/exp5.ipynb\" target=\"_parent\"><img src=\"https://colab.research.google.com/assets/colab-badge.svg\" alt=\"Open In Colab\"/></a>"
      ]
    },
    {
      "cell_type": "markdown",
      "metadata": {
        "id": "s-mMpKbtM5N7"
      },
      "source": [
        "##**Objective:**\n",
        "- To train and evaluate a Convolutional Neural Network (CNN) using the Keras library to classify the Fashion MNIST dataset. The objective is to analyze the effect of different hyperparameters, such as filter size, regularization, batch size, and optimization algorithm, on model performance."
      ]
    },
    {
      "cell_type": "markdown",
      "source": [
        "##**Description of the Model**\n",
        "\n",
        "A Convolutional Neural Network (CNN) is used for image classification with the following architecture:\n",
        "\n",
        "- **Input Layer:** 28x28 grayscale images reshaped to (28, 28, 1)\n",
        "- **Conv Layer 1:** 32 filters, variable kernel size, ReLU activation\n",
        "- **MaxPooling 1:** 2x2 pool size\n",
        "- **Conv Layer 2:** 64 filters, same kernel size, ReLU activation\n",
        "- **MaxPooling 2:** 2x2 pool size\n",
        "- **Flatten Layer**\n",
        "- **Dense Layer:** 64 neurons, ReLU activation\n",
        "- **Output Layer:** 10 neurons, Softmax activation"
      ],
      "metadata": {
        "id": "2o8MR1dX68Tg"
      }
    },
    {
      "cell_type": "markdown",
      "source": [
        "##Python Implementation\n"
      ],
      "metadata": {
        "id": "qXCL5es37Xzt"
      }
    },
    {
      "cell_type": "code",
      "source": [
        "import numpy as np\n",
        "import matplotlib.pyplot as plt\n",
        "import tensorflow as tf\n",
        "from tensorflow.keras import datasets, layers, models, regularizers\n",
        "from tensorflow.keras.optimizers import Adam, SGD\n",
        "\n",
        "# Load Fashion MNIST dataset\n",
        "(x_train, y_train), (x_test, y_test) = datasets.fashion_mnist.load_data()\n"
      ],
      "metadata": {
        "id": "g5x2dSw07UrZ",
        "colab": {
          "base_uri": "https://localhost:8080/"
        },
        "outputId": "d5f39cf0-7b5b-421b-9571-2746edea6174"
      },
      "execution_count": 1,
      "outputs": [
        {
          "output_type": "stream",
          "name": "stdout",
          "text": [
            "Downloading data from https://storage.googleapis.com/tensorflow/tf-keras-datasets/train-labels-idx1-ubyte.gz\n",
            "\u001b[1m29515/29515\u001b[0m \u001b[32m━━━━━━━━━━━━━━━━━━━━\u001b[0m\u001b[37m\u001b[0m \u001b[1m0s\u001b[0m 0us/step\n",
            "Downloading data from https://storage.googleapis.com/tensorflow/tf-keras-datasets/train-images-idx3-ubyte.gz\n",
            "\u001b[1m26421880/26421880\u001b[0m \u001b[32m━━━━━━━━━━━━━━━━━━━━\u001b[0m\u001b[37m\u001b[0m \u001b[1m2s\u001b[0m 0us/step\n",
            "Downloading data from https://storage.googleapis.com/tensorflow/tf-keras-datasets/t10k-labels-idx1-ubyte.gz\n",
            "\u001b[1m5148/5148\u001b[0m \u001b[32m━━━━━━━━━━━━━━━━━━━━\u001b[0m\u001b[37m\u001b[0m \u001b[1m0s\u001b[0m 0us/step\n",
            "Downloading data from https://storage.googleapis.com/tensorflow/tf-keras-datasets/t10k-images-idx3-ubyte.gz\n",
            "\u001b[1m4422102/4422102\u001b[0m \u001b[32m━━━━━━━━━━━━━━━━━━━━\u001b[0m\u001b[37m\u001b[0m \u001b[1m1s\u001b[0m 0us/step\n"
          ]
        }
      ]
    },
    {
      "cell_type": "code",
      "source": [
        "# Normalize the data\n",
        "x_train = x_train / 255.0\n",
        "x_test = x_test / 255.0\n",
        "\n",
        "# Reshape for CNN input\n",
        "x_train = x_train.reshape(-1, 28, 28, 1)\n",
        "x_test = x_test.reshape(-1, 28, 28, 1)\n"
      ],
      "metadata": {
        "id": "vHsskA6r7gVA"
      },
      "execution_count": 2,
      "outputs": []
    },
    {
      "cell_type": "code",
      "source": [
        "def create_model(filter_size=3, regularization=None, optimizer='adam'):\n",
        "    model = models.Sequential()\n",
        "    model.add(layers.Conv2D(32, (filter_size, filter_size), activation='relu', input_shape=(28,28,1),\n",
        "                            kernel_regularizer=regularization))\n",
        "    model.add(layers.MaxPooling2D((2,2)))\n",
        "    model.add(layers.Conv2D(64, (filter_size, filter_size), activation='relu',\n",
        "                            kernel_regularizer=regularization))\n",
        "    model.add(layers.MaxPooling2D((2,2)))\n",
        "    model.add(layers.Flatten())\n",
        "    model.add(layers.Dense(64, activation='relu', kernel_regularizer=regularization))\n",
        "    model.add(layers.Dense(10, activation='softmax'))\n",
        "\n",
        "    model.compile(optimizer=optimizer,\n",
        "                  loss='sparse_categorical_crossentropy',\n",
        "                  metrics=['accuracy'])\n",
        "    return model\n",
        "\n",
        "# Function to train and evaluate\n",
        "results = {}\n",
        "def train_and_evaluate(filter_size=3, regularization=None, batch_size=64, optimizer='adam', label='default'):\n",
        "    model = create_model(filter_size=filter_size, regularization=regularization, optimizer=optimizer)\n",
        "    history = model.fit(x_train, y_train, epochs=5, batch_size=batch_size, validation_split=0.1, verbose=0)\n",
        "    test_loss, test_acc = model.evaluate(x_test, y_test, verbose=0)\n",
        "    results[label] = {'history': history, 'test_accuracy': test_acc}\n",
        "    print(f\"{label}: Test Accuracy = {test_acc:.4f}\")\n",
        "\n",
        "# 1. Effect of filter size\n",
        "for fs in [3, 5, 7]:\n",
        "    train_and_evaluate(filter_size=fs, label=f'Filter size {fs}')\n",
        "\n",
        "# 2. Effect of regularization\n",
        "for reg in [None, regularizers.l2(0.001)]:\n",
        "    label = 'No regularization' if reg is None else 'L2 regularization'\n",
        "    train_and_evaluate(regularization=reg, label=label)\n",
        "\n",
        "# 3. Effect of batch size\n",
        "for bs in [32, 64, 128]:\n",
        "    train_and_evaluate(batch_size=bs, label=f'Batch size {bs}')\n",
        "\n",
        "# 4. Effect of optimizer\n",
        "for opt in ['adam', 'sgd']:\n",
        "    train_and_evaluate(optimizer=opt, label=f'Optimizer {opt}')\n",
        "\n",
        "# Plotting Results\n",
        "labels = list(results.keys())\n",
        "accuracies = [results[k]['test_accuracy'] for k in labels]\n",
        "\n",
        "plt.figure(figsize=(12,6))\n",
        "plt.barh(labels, accuracies, color='skyblue')\n",
        "plt.xlabel('Test Accuracy')\n",
        "plt.title('Comparison of Different Parameters on Fashion MNIST')\n",
        "plt.grid(True)\n",
        "plt.show()"
      ],
      "metadata": {
        "colab": {
          "base_uri": "https://localhost:8080/",
          "height": 792
        },
        "id": "JuUBeid-bjD_",
        "outputId": "90489e7c-e162-4d79-ca20-a562184f222c"
      },
      "execution_count": 3,
      "outputs": [
        {
          "output_type": "stream",
          "name": "stderr",
          "text": [
            "/usr/local/lib/python3.11/dist-packages/keras/src/layers/convolutional/base_conv.py:107: UserWarning: Do not pass an `input_shape`/`input_dim` argument to a layer. When using Sequential models, prefer using an `Input(shape)` object as the first layer in the model instead.\n",
            "  super().__init__(activity_regularizer=activity_regularizer, **kwargs)\n"
          ]
        },
        {
          "output_type": "stream",
          "name": "stdout",
          "text": [
            "Filter size 3: Test Accuracy = 0.8985\n",
            "Filter size 5: Test Accuracy = 0.8963\n",
            "Filter size 7: Test Accuracy = 0.8763\n",
            "No regularization: Test Accuracy = 0.9001\n",
            "L2 regularization: Test Accuracy = 0.8759\n",
            "Batch size 32: Test Accuracy = 0.9070\n",
            "Batch size 64: Test Accuracy = 0.9001\n",
            "Batch size 128: Test Accuracy = 0.8928\n",
            "Optimizer adam: Test Accuracy = 0.8985\n",
            "Optimizer sgd: Test Accuracy = 0.8115\n"
          ]
        },
        {
          "output_type": "display_data",
          "data": {
            "text/plain": [
              "<Figure size 1200x600 with 1 Axes>"
            ],
            "image/png": "[encoded data removed]"
          },
          "metadata": {}
        }
      ]
    },
    {
      "cell_type": "markdown",
      "source": [
        "## Code Description\n",
        "\n",
        "- **Data Loading & Preprocessing**:\n",
        "  - Loads Fashion MNIST dataset\n",
        "  - Normalizes pixel values to `[0, 1]`\n",
        "  - Reshapes data for CNN input\n",
        "\n",
        "- **Model Creation**:\n",
        "  - Accepts `filter_size`, `regularization`, and `optimizer` as arguments\n",
        "  - Builds a sequential CNN model accordingly\n",
        "\n",
        "- **Training & Evaluation**:\n",
        "  - `train_and_evaluate()` function trains the model and evaluates its test accuracy\n",
        "  - Results are saved for each configuration\n",
        "\n",
        "- **Hyperparameter Experiments**:\n",
        "  - **Filter Size**: 3, 5, 7\n",
        "  - **Regularization**: None, L2 (0.001)\n",
        "  - **Batch Size**: 32, 64, 128\n",
        "  - **Optimizers**: Adam, SGD\n",
        "\n",
        "- **Visualization**:\n",
        "  - Horizontal bar chart is plotted to compare the test accuracies of all configurations\n",
        "\n",
        "---"
      ],
      "metadata": {
        "id": "SuGZTxtKbr1x"
      }
    },
    {
      "cell_type": "markdown",
      "source": [
        "\n",
        "## **Performance Evaluation**\n",
        "\n",
        "| Parameter           | Setting              | Test Accuracy |\n",
        "|---------------------|----------------------|----------------|\n",
        "| **Filter Size**     | 3                    | **0.9002**     |\n",
        "|                     | 5                    | 0.8897         |\n",
        "|                     | 7                    | 0.8716         |\n",
        "| **Regularization**  | None                 | **0.9025**     |\n",
        "|                     | L2 (0.001)           | 0.8789         |\n",
        "| **Batch Size**      | 32                   | 0.8908         |\n",
        "|                     | 64                   | **0.8995**     |\n",
        "|                     | 128                  | 0.8954         |\n",
        "| **Optimizer**       | Adam                 | **0.8990**     |\n",
        "|                     | SGD                  | 0.8317         |\n",
        "\n",
        "---"
      ],
      "metadata": {
        "id": "t98PEvhXb0us"
      }
    },
    {
      "cell_type": "markdown",
      "source": [
        "## **My Comment**\n",
        "\n",
        "- Found that **smaller filter sizes (3x3)** perform better on the Fashion MNIST dataset.\n",
        "- **Adam optimizer** significantly outperformed **SGD** in terms of accuracy and convergence speed.\n",
        "- **Batch size 64** gave a good balance between training time and performance.\n",
        "- **Regularization (L2)** slightly reduced the performance, indicating potential underfitting.\n",
        "---"
      ],
      "metadata": {
        "id": "zAzUPVsRb4VP"
      }
    },
    {
      "cell_type": "code",
      "source": [],
      "metadata": {
        "id": "mVeAr6HQcEYC"
      },
      "execution_count": 3,
      "outputs": []
    }
  ]
}