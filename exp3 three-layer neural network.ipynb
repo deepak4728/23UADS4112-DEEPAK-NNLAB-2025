{
  "nbformat": 4,
  "nbformat_minor": 0,
  "metadata": {
    "colab": {
      "provenance": []
    },
    "kernelspec": {
      "name": "python3",
      "display_name": "Python 3"
    },
    "language_info": {
      "name": "python"
    }
  },
  "cells": [
    {
      "cell_type": "markdown",
      "source": [
        "**3. WAP to implement a three-layer neural network using Tensor flow library (only, no keras) to classify MNIST handwritten digits dataset. Demonstrate the implementation of feed-forward and back-propagation approaches.**"
      ],
      "metadata": {
        "id": "sIcb4wJHig9T"
      }
    },
    {
      "cell_type": "code",
      "source": [],
      "metadata": {
        "id": "y1fDb-AHiy41"
      },
      "execution_count": null,
      "outputs": []
    },
    {
      "cell_type": "code",
      "execution_count": 4,
      "metadata": {
        "colab": {
          "base_uri": "https://localhost:8080/"
        },
        "id": "vUj9Mc7Iho_N",
        "outputId": "86d1e857-7f4c-4fe5-c809-2468d922aaf9"
      },
      "outputs": [
        {
          "output_type": "stream",
          "name": "stdout",
          "text": [
            "Epoch 1, Loss: 2.2574, Accuracy: 0.1367\n",
            "Epoch 2, Loss: 2.1938, Accuracy: 0.3342\n",
            "Epoch 3, Loss: 2.0725, Accuracy: 0.4933\n",
            "Epoch 4, Loss: 1.9571, Accuracy: 0.5667\n",
            "Epoch 5, Loss: 1.8993, Accuracy: 0.6034\n",
            "Epoch 6, Loss: 1.8694, Accuracy: 0.6208\n",
            "Epoch 7, Loss: 1.8497, Accuracy: 0.6344\n",
            "Epoch 8, Loss: 1.8314, Accuracy: 0.6442\n",
            "Epoch 9, Loss: 1.7830, Accuracy: 0.7222\n",
            "Epoch 10, Loss: 1.7337, Accuracy: 0.7823\n",
            "Epoch 11, Loss: 1.7014, Accuracy: 0.8019\n",
            "Epoch 12, Loss: 1.6698, Accuracy: 0.8457\n",
            "Epoch 13, Loss: 1.6469, Accuracy: 0.8613\n",
            "Epoch 14, Loss: 1.6309, Accuracy: 0.8699\n",
            "Epoch 15, Loss: 1.6190, Accuracy: 0.8767\n",
            "Epoch 16, Loss: 1.6098, Accuracy: 0.8824\n",
            "Epoch 17, Loss: 1.6025, Accuracy: 0.8863\n",
            "Epoch 18, Loss: 1.5966, Accuracy: 0.8898\n",
            "Epoch 19, Loss: 1.5916, Accuracy: 0.8924\n",
            "Epoch 20, Loss: 1.5874, Accuracy: 0.8951\n",
            "\n",
            "Test Accuracy: 0.9016\n"
          ]
        }
      ],
      "source": [
        "import tensorflow as tf\n",
        "import numpy as np\n",
        "from tensorflow.python.framework import ops\n",
        "\n",
        "# Disable eager execution to use tf.compat.v1.placeholder\n",
        "tf.compat.v1.disable_eager_execution() # This line disables eager execution\n",
        "\n",
        "# Load MNIST dataset\n",
        "mnist = tf.keras.datasets.mnist\n",
        "(x_train, y_train), (x_test, y_test) = mnist.load_data()\n",
        "\n",
        "# Normalize and reshape input data\n",
        "x_train, x_test = x_train / 255.0, x_test / 255.0\n",
        "x_train = x_train.reshape(-1, 784)  # Flattening 28x28 images\n",
        "x_test = x_test.reshape(-1, 784)\n",
        "\n",
        "# One-hot encoding for labels\n",
        "y_train = np.eye(10)[y_train]\n",
        "y_test = np.eye(10)[y_test]\n",
        "\n",
        "# Reset default graph\n",
        "ops.reset_default_graph()\n",
        "\n",
        "# Define placeholders\n",
        "X = tf.compat.v1.placeholder(tf.float32, [None, 784])\n",
        "Y = tf.compat.v1.placeholder(tf.float32, [None, 10])\n",
        "\n",
        "# Define model parameters\n",
        "def init_weights(shape):\n",
        "    return tf.Variable(tf.random.normal(shape, stddev=0.1))\n",
        "\n",
        "W1 = init_weights([784, 128])\n",
        "b1 = tf.Variable(tf.zeros([128]))\n",
        "\n",
        "W2 = init_weights([128, 64])\n",
        "b2 = tf.Variable(tf.zeros([64]))\n",
        "\n",
        "W3 = init_weights([64, 10])\n",
        "b3 = tf.Variable(tf.zeros([10]))\n",
        "\n",
        "# Feed-forward pass\n",
        "def forward_propagation(X):\n",
        "    z1 = tf.matmul(X, W1) + b1\n",
        "    a1 = tf.nn.relu(z1)\n",
        "\n",
        "    z2 = tf.matmul(a1, W2) + b2\n",
        "    a2 = tf.nn.relu(z2)\n",
        "\n",
        "    z3 = tf.matmul(a2, W3) + b3\n",
        "    output = tf.nn.softmax(z3)\n",
        "\n",
        "    return output\n",
        "\n",
        "y_pred = forward_propagation(X)\n",
        "\n",
        "# Loss function\n",
        "#loss = tf.reduce_mean(tf.nn.softmax_cross_entropy_with_logits_v2(logits=y_pred, labels=Y))\n",
        "# Change from:\n",
        "# loss = tf.reduce_mean(tf.nn.softmax_cross_entropy_with_logits_v2(logits=y_pred, labels=Y))\n",
        "# To:\n",
        "loss = tf.reduce_mean(tf.nn.softmax_cross_entropy_with_logits(logits=y_pred, labels=Y))\n",
        "\n",
        "# Back-propagation using SGD\n",
        "learning_rate = 0.01\n",
        "optimizer = tf.compat.v1.train.GradientDescentOptimizer(learning_rate).minimize(loss)\n",
        "\n",
        "# Accuracy metric\n",
        "correct_pred = tf.equal(tf.argmax(y_pred, 1), tf.argmax(Y, 1))\n",
        "accuracy = tf.reduce_mean(tf.cast(correct_pred, tf.float32))\n",
        "\n",
        "# Training\n",
        "epochs = 20\n",
        "batch_size = 128\n",
        "\n",
        "with tf.compat.v1.Session() as sess:\n",
        "    sess.run(tf.compat.v1.global_variables_initializer())\n",
        "\n",
        "    for epoch in range(epochs):\n",
        "        for i in range(0, x_train.shape[0], batch_size):\n",
        "            batch_x = x_train[i:i+batch_size]\n",
        "            batch_y = y_train[i:i+batch_size]\n",
        "            sess.run(optimizer, feed_dict={X: batch_x, Y: batch_y})\n",
        "\n",
        "        train_loss, train_acc = sess.run([loss, accuracy], feed_dict={X: x_train, Y: y_train})\n",
        "        print(f\"Epoch {epoch+1}, Loss: {train_loss:.4f}, Accuracy: {train_acc:.4f}\")\n",
        "\n",
        "    # Evaluate on test set\n",
        "    test_acc = sess.run(accuracy, feed_dict={X: x_test, Y: y_test})\n",
        "    print(f\"\\nTest Accuracy: {test_acc:.4f}\")\n"
      ]
    },
    {
      "cell_type": "code",
      "source": [],
      "metadata": {
        "id": "_hv3oI5pixwq"
      },
      "execution_count": null,
      "outputs": []
    }
  ]
}